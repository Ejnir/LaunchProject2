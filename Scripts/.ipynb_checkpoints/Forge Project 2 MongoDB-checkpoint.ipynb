{
 "cells": [
  {
   "cell_type": "code",
   "execution_count": 63,
   "id": "2ddf97bf",
   "metadata": {},
   "outputs": [
    {
     "name": "stdout",
     "output_type": "stream",
     "text": [
      "Requirement already satisfied: pymongo in /Applications/anaconda3/lib/python3.11/site-packages (4.13.0)\n",
      "Requirement already satisfied: dnspython<3.0.0,>=1.16.0 in /Applications/anaconda3/lib/python3.11/site-packages (from pymongo) (2.7.0)\n",
      "Note: you may need to restart the kernel to use updated packages.\n"
     ]
    }
   ],
   "source": [
    "pip install pymongo"
   ]
  },
  {
   "cell_type": "code",
   "execution_count": 64,
   "id": "e8fc7b84",
   "metadata": {},
   "outputs": [],
   "source": [
    "import pymongo\n",
    "from pymongo import MongoClient\n",
    "import pandas as pd"
   ]
  },
  {
   "cell_type": "code",
   "execution_count": 65,
   "id": "2f81a1cf",
   "metadata": {},
   "outputs": [],
   "source": [
    "client = MongoClient('localhost', 27017)"
   ]
  },
  {
   "cell_type": "code",
   "execution_count": 66,
   "id": "3f85c125",
   "metadata": {},
   "outputs": [
    {
     "data": {
      "text/plain": [
       "MongoClient(host=['localhost:27017'], document_class=dict, tz_aware=False, connect=True)"
      ]
     },
     "execution_count": 66,
     "metadata": {},
     "output_type": "execute_result"
    }
   ],
   "source": [
    "client"
   ]
  },
  {
   "cell_type": "code",
   "execution_count": 67,
   "id": "0b9b5146",
   "metadata": {},
   "outputs": [],
   "source": [
    "db = client.streaming"
   ]
  },
  {
   "cell_type": "code",
   "execution_count": 68,
   "id": "8643a4f6",
   "metadata": {},
   "outputs": [],
   "source": [
    "video = pd.read_csv('../sqldata/sql_video.csv')\n",
    "video_dict = video.to_dict('records')"
   ]
  },
  {
   "cell_type": "code",
   "execution_count": 69,
   "id": "c93e33b1",
   "metadata": {},
   "outputs": [],
   "source": [
    "channel = pd.read_csv('../sqldata/sql_channel.csv')\n",
    "channel_dict = channel.to_dict('records')"
   ]
  },
  {
   "cell_type": "code",
   "execution_count": 70,
   "id": "0994dcc4",
   "metadata": {},
   "outputs": [],
   "source": [
    "subscription = pd.read_csv('../sqldata/sql_subscription.csv')\n",
    "subscription_dict = subscription.to_dict('records')"
   ]
  },
  {
   "cell_type": "code",
   "execution_count": 71,
   "id": "43d5d78f",
   "metadata": {},
   "outputs": [],
   "source": [
    "view = pd.read_csv('../sqldata/sql_view.csv')\n",
    "view_dict = view.to_dict('records')"
   ]
  },
  {
   "cell_type": "code",
   "execution_count": 72,
   "id": "2ed33954",
   "metadata": {},
   "outputs": [],
   "source": [
    "user = pd.read_csv('../sqldata/sql_user.csv')\n",
    "user_dict = user.to_dict('records')"
   ]
  },
  {
   "cell_type": "code",
   "execution_count": 73,
   "id": "733240ad",
   "metadata": {},
   "outputs": [],
   "source": [
    "owner = pd.read_csv('../sqldata/sql_owner.csv')\n",
    "owner_dict = owner.to_dict('records')"
   ]
  },
  {
   "cell_type": "code",
   "execution_count": 74,
   "id": "5d981640",
   "metadata": {},
   "outputs": [],
   "source": [
    "video_collection = db.videos\n",
    "channel_collection = db.channels\n",
    "subscription_collection = db.subscriptions\n",
    "view_collection = db.views\n",
    "user_collection = db.users\n",
    "owner_collection = db.owners"
   ]
  },
  {
   "cell_type": "code",
   "execution_count": 75,
   "id": "9b4ce386",
   "metadata": {},
   "outputs": [
    {
     "data": {
      "text/plain": [
       "InsertManyResult([ObjectId('6837275f47490094d3ae0089'), ObjectId('6837275f47490094d3ae008a'), ObjectId('6837275f47490094d3ae008b'), ObjectId('6837275f47490094d3ae008c'), ObjectId('6837275f47490094d3ae008d'), ObjectId('6837275f47490094d3ae008e'), ObjectId('6837275f47490094d3ae008f'), ObjectId('6837275f47490094d3ae0090'), ObjectId('6837275f47490094d3ae0091'), ObjectId('6837275f47490094d3ae0092'), ObjectId('6837275f47490094d3ae0093'), ObjectId('6837275f47490094d3ae0094'), ObjectId('6837275f47490094d3ae0095'), ObjectId('6837275f47490094d3ae0096'), ObjectId('6837275f47490094d3ae0097'), ObjectId('6837275f47490094d3ae0098'), ObjectId('6837275f47490094d3ae0099'), ObjectId('6837275f47490094d3ae009a'), ObjectId('6837275f47490094d3ae009b'), ObjectId('6837275f47490094d3ae009c'), ObjectId('6837275f47490094d3ae009d'), ObjectId('6837275f47490094d3ae009e'), ObjectId('6837275f47490094d3ae009f'), ObjectId('6837275f47490094d3ae00a0'), ObjectId('6837275f47490094d3ae00a1'), ObjectId('6837275f47490094d3ae00a2'), ObjectId('6837275f47490094d3ae00a3'), ObjectId('6837275f47490094d3ae00a4'), ObjectId('6837275f47490094d3ae00a5'), ObjectId('6837275f47490094d3ae00a6'), ObjectId('6837275f47490094d3ae00a7'), ObjectId('6837275f47490094d3ae00a8'), ObjectId('6837275f47490094d3ae00a9'), ObjectId('6837275f47490094d3ae00aa'), ObjectId('6837275f47490094d3ae00ab'), ObjectId('6837275f47490094d3ae00ac'), ObjectId('6837275f47490094d3ae00ad'), ObjectId('6837275f47490094d3ae00ae'), ObjectId('6837275f47490094d3ae00af'), ObjectId('6837275f47490094d3ae00b0'), ObjectId('6837275f47490094d3ae00b1'), ObjectId('6837275f47490094d3ae00b2'), ObjectId('6837275f47490094d3ae00b3'), ObjectId('6837275f47490094d3ae00b4'), ObjectId('6837275f47490094d3ae00b5'), ObjectId('6837275f47490094d3ae00b6'), ObjectId('6837275f47490094d3ae00b7'), ObjectId('6837275f47490094d3ae00b8'), ObjectId('6837275f47490094d3ae00b9'), ObjectId('6837275f47490094d3ae00ba'), ObjectId('6837275f47490094d3ae00bb'), ObjectId('6837275f47490094d3ae00bc'), ObjectId('6837275f47490094d3ae00bd'), ObjectId('6837275f47490094d3ae00be'), ObjectId('6837275f47490094d3ae00bf'), ObjectId('6837275f47490094d3ae00c0'), ObjectId('6837275f47490094d3ae00c1'), ObjectId('6837275f47490094d3ae00c2'), ObjectId('6837275f47490094d3ae00c3'), ObjectId('6837275f47490094d3ae00c4')], acknowledged=True)"
      ]
     },
     "execution_count": 75,
     "metadata": {},
     "output_type": "execute_result"
    }
   ],
   "source": [
    "video_collection.insert_many(video_dict)"
   ]
  },
  {
   "cell_type": "code",
   "execution_count": 76,
   "id": "382fadf3",
   "metadata": {},
   "outputs": [
    {
     "data": {
      "text/plain": [
       "InsertManyResult([ObjectId('6837275f47490094d3ae00c5'), ObjectId('6837275f47490094d3ae00c6'), ObjectId('6837275f47490094d3ae00c7'), ObjectId('6837275f47490094d3ae00c8'), ObjectId('6837275f47490094d3ae00c9'), ObjectId('6837275f47490094d3ae00ca'), ObjectId('6837275f47490094d3ae00cb'), ObjectId('6837275f47490094d3ae00cc'), ObjectId('6837275f47490094d3ae00cd'), ObjectId('6837275f47490094d3ae00ce')], acknowledged=True)"
      ]
     },
     "execution_count": 76,
     "metadata": {},
     "output_type": "execute_result"
    }
   ],
   "source": [
    "channel_collection.insert_many(channel_dict)"
   ]
  },
  {
   "cell_type": "code",
   "execution_count": 77,
   "id": "d6f8b77d",
   "metadata": {},
   "outputs": [
    {
     "data": {
      "text/plain": [
       "InsertManyResult([ObjectId('6837275f47490094d3ae00cf'), ObjectId('6837275f47490094d3ae00d0'), ObjectId('6837275f47490094d3ae00d1'), ObjectId('6837275f47490094d3ae00d2'), ObjectId('6837275f47490094d3ae00d3'), ObjectId('6837275f47490094d3ae00d4'), ObjectId('6837275f47490094d3ae00d5'), ObjectId('6837275f47490094d3ae00d6'), ObjectId('6837275f47490094d3ae00d7'), ObjectId('6837275f47490094d3ae00d8'), ObjectId('6837275f47490094d3ae00d9'), ObjectId('6837275f47490094d3ae00da'), ObjectId('6837275f47490094d3ae00db'), ObjectId('6837275f47490094d3ae00dc'), ObjectId('6837275f47490094d3ae00dd'), ObjectId('6837275f47490094d3ae00de'), ObjectId('6837275f47490094d3ae00df'), ObjectId('6837275f47490094d3ae00e0'), ObjectId('6837275f47490094d3ae00e1'), ObjectId('6837275f47490094d3ae00e2'), ObjectId('6837275f47490094d3ae00e3'), ObjectId('6837275f47490094d3ae00e4'), ObjectId('6837275f47490094d3ae00e5'), ObjectId('6837275f47490094d3ae00e6'), ObjectId('6837275f47490094d3ae00e7'), ObjectId('6837275f47490094d3ae00e8'), ObjectId('6837275f47490094d3ae00e9'), ObjectId('6837275f47490094d3ae00ea'), ObjectId('6837275f47490094d3ae00eb'), ObjectId('6837275f47490094d3ae00ec'), ObjectId('6837275f47490094d3ae00ed'), ObjectId('6837275f47490094d3ae00ee'), ObjectId('6837275f47490094d3ae00ef'), ObjectId('6837275f47490094d3ae00f0'), ObjectId('6837275f47490094d3ae00f1'), ObjectId('6837275f47490094d3ae00f2'), ObjectId('6837275f47490094d3ae00f3'), ObjectId('6837275f47490094d3ae00f4'), ObjectId('6837275f47490094d3ae00f5'), ObjectId('6837275f47490094d3ae00f6'), ObjectId('6837275f47490094d3ae00f7'), ObjectId('6837275f47490094d3ae00f8'), ObjectId('6837275f47490094d3ae00f9'), ObjectId('6837275f47490094d3ae00fa'), ObjectId('6837275f47490094d3ae00fb'), ObjectId('6837275f47490094d3ae00fc'), ObjectId('6837275f47490094d3ae00fd'), ObjectId('6837275f47490094d3ae00fe'), ObjectId('6837275f47490094d3ae00ff'), ObjectId('6837275f47490094d3ae0100')], acknowledged=True)"
      ]
     },
     "execution_count": 77,
     "metadata": {},
     "output_type": "execute_result"
    }
   ],
   "source": [
    "subscription_collection.insert_many(subscription_dict)"
   ]
  },
  {
   "cell_type": "code",
   "execution_count": 78,
   "id": "0c4fbe46",
   "metadata": {},
   "outputs": [
    {
     "data": {
      "text/plain": [
       "InsertManyResult([ObjectId('6837275f47490094d3ae0101'), ObjectId('6837275f47490094d3ae0102'), ObjectId('6837275f47490094d3ae0103'), ObjectId('6837275f47490094d3ae0104'), ObjectId('6837275f47490094d3ae0105'), ObjectId('6837275f47490094d3ae0106'), ObjectId('6837275f47490094d3ae0107'), ObjectId('6837275f47490094d3ae0108'), ObjectId('6837275f47490094d3ae0109'), ObjectId('6837275f47490094d3ae010a'), ObjectId('6837275f47490094d3ae010b'), ObjectId('6837275f47490094d3ae010c'), ObjectId('6837275f47490094d3ae010d'), ObjectId('6837275f47490094d3ae010e'), ObjectId('6837275f47490094d3ae010f'), ObjectId('6837275f47490094d3ae0110'), ObjectId('6837275f47490094d3ae0111'), ObjectId('6837275f47490094d3ae0112'), ObjectId('6837275f47490094d3ae0113'), ObjectId('6837275f47490094d3ae0114'), ObjectId('6837275f47490094d3ae0115'), ObjectId('6837275f47490094d3ae0116'), ObjectId('6837275f47490094d3ae0117'), ObjectId('6837275f47490094d3ae0118'), ObjectId('6837275f47490094d3ae0119'), ObjectId('6837275f47490094d3ae011a'), ObjectId('6837275f47490094d3ae011b'), ObjectId('6837275f47490094d3ae011c'), ObjectId('6837275f47490094d3ae011d'), ObjectId('6837275f47490094d3ae011e'), ObjectId('6837275f47490094d3ae011f'), ObjectId('6837275f47490094d3ae0120'), ObjectId('6837275f47490094d3ae0121'), ObjectId('6837275f47490094d3ae0122'), ObjectId('6837275f47490094d3ae0123'), ObjectId('6837275f47490094d3ae0124'), ObjectId('6837275f47490094d3ae0125'), ObjectId('6837275f47490094d3ae0126'), ObjectId('6837275f47490094d3ae0127'), ObjectId('6837275f47490094d3ae0128'), ObjectId('6837275f47490094d3ae0129'), ObjectId('6837275f47490094d3ae012a'), ObjectId('6837275f47490094d3ae012b'), ObjectId('6837275f47490094d3ae012c'), ObjectId('6837275f47490094d3ae012d'), ObjectId('6837275f47490094d3ae012e'), ObjectId('6837275f47490094d3ae012f'), ObjectId('6837275f47490094d3ae0130'), ObjectId('6837275f47490094d3ae0131'), ObjectId('6837275f47490094d3ae0132'), ObjectId('6837275f47490094d3ae0133'), ObjectId('6837275f47490094d3ae0134'), ObjectId('6837275f47490094d3ae0135'), ObjectId('6837275f47490094d3ae0136'), ObjectId('6837275f47490094d3ae0137'), ObjectId('6837275f47490094d3ae0138'), ObjectId('6837275f47490094d3ae0139'), ObjectId('6837275f47490094d3ae013a'), ObjectId('6837275f47490094d3ae013b'), ObjectId('6837275f47490094d3ae013c'), ObjectId('6837275f47490094d3ae013d'), ObjectId('6837275f47490094d3ae013e'), ObjectId('6837275f47490094d3ae013f'), ObjectId('6837275f47490094d3ae0140'), ObjectId('6837275f47490094d3ae0141'), ObjectId('6837275f47490094d3ae0142'), ObjectId('6837275f47490094d3ae0143'), ObjectId('6837275f47490094d3ae0144'), ObjectId('6837275f47490094d3ae0145'), ObjectId('6837275f47490094d3ae0146')], acknowledged=True)"
      ]
     },
     "execution_count": 78,
     "metadata": {},
     "output_type": "execute_result"
    }
   ],
   "source": [
    "view_collection.insert_many(view_dict)"
   ]
  },
  {
   "cell_type": "code",
   "execution_count": 79,
   "id": "309e494c",
   "metadata": {},
   "outputs": [
    {
     "data": {
      "text/plain": [
       "InsertManyResult([ObjectId('6837275f47490094d3ae0147'), ObjectId('6837275f47490094d3ae0148'), ObjectId('6837275f47490094d3ae0149'), ObjectId('6837275f47490094d3ae014a'), ObjectId('6837275f47490094d3ae014b'), ObjectId('6837275f47490094d3ae014c'), ObjectId('6837275f47490094d3ae014d'), ObjectId('6837275f47490094d3ae014e'), ObjectId('6837275f47490094d3ae014f'), ObjectId('6837275f47490094d3ae0150'), ObjectId('6837275f47490094d3ae0151'), ObjectId('6837275f47490094d3ae0152'), ObjectId('6837275f47490094d3ae0153'), ObjectId('6837275f47490094d3ae0154'), ObjectId('6837275f47490094d3ae0155'), ObjectId('6837275f47490094d3ae0156'), ObjectId('6837275f47490094d3ae0157'), ObjectId('6837275f47490094d3ae0158'), ObjectId('6837275f47490094d3ae0159'), ObjectId('6837275f47490094d3ae015a'), ObjectId('6837275f47490094d3ae015b'), ObjectId('6837275f47490094d3ae015c'), ObjectId('6837275f47490094d3ae015d'), ObjectId('6837275f47490094d3ae015e'), ObjectId('6837275f47490094d3ae015f'), ObjectId('6837275f47490094d3ae0160'), ObjectId('6837275f47490094d3ae0161'), ObjectId('6837275f47490094d3ae0162'), ObjectId('6837275f47490094d3ae0163'), ObjectId('6837275f47490094d3ae0164'), ObjectId('6837275f47490094d3ae0165'), ObjectId('6837275f47490094d3ae0166'), ObjectId('6837275f47490094d3ae0167'), ObjectId('6837275f47490094d3ae0168'), ObjectId('6837275f47490094d3ae0169'), ObjectId('6837275f47490094d3ae016a'), ObjectId('6837275f47490094d3ae016b'), ObjectId('6837275f47490094d3ae016c'), ObjectId('6837275f47490094d3ae016d'), ObjectId('6837275f47490094d3ae016e'), ObjectId('6837275f47490094d3ae016f'), ObjectId('6837275f47490094d3ae0170'), ObjectId('6837275f47490094d3ae0171'), ObjectId('6837275f47490094d3ae0172'), ObjectId('6837275f47490094d3ae0173'), ObjectId('6837275f47490094d3ae0174'), ObjectId('6837275f47490094d3ae0175'), ObjectId('6837275f47490094d3ae0176'), ObjectId('6837275f47490094d3ae0177'), ObjectId('6837275f47490094d3ae0178')], acknowledged=True)"
      ]
     },
     "execution_count": 79,
     "metadata": {},
     "output_type": "execute_result"
    }
   ],
   "source": [
    "user_collection.insert_many(user_dict)"
   ]
  },
  {
   "cell_type": "code",
   "execution_count": 80,
   "id": "48002b06",
   "metadata": {},
   "outputs": [
    {
     "data": {
      "text/plain": [
       "InsertManyResult([ObjectId('6837275f47490094d3ae0179'), ObjectId('6837275f47490094d3ae017a'), ObjectId('6837275f47490094d3ae017b'), ObjectId('6837275f47490094d3ae017c'), ObjectId('6837275f47490094d3ae017d'), ObjectId('6837275f47490094d3ae017e'), ObjectId('6837275f47490094d3ae017f'), ObjectId('6837275f47490094d3ae0180'), ObjectId('6837275f47490094d3ae0181'), ObjectId('6837275f47490094d3ae0182')], acknowledged=True)"
      ]
     },
     "execution_count": 80,
     "metadata": {},
     "output_type": "execute_result"
    }
   ],
   "source": [
    "owner_collection.insert_many(owner_dict)"
   ]
  },
  {
   "cell_type": "code",
   "execution_count": 84,
   "id": "090dea2d",
   "metadata": {},
   "outputs": [
    {
     "name": "stdout",
     "output_type": "stream",
     "text": [
      "{'Video ID': 40, 'Video Title': 'Songwriting 101: Melody vs Lyrics', 'Average View Duration': 6982.0}\n",
      "{'Video ID': 21, 'Video Title': '5 Yoga Poses for Back Pain', 'Average View Duration': 6945.0}\n",
      "{'Video ID': 23, 'Video Title': 'What is the Blockchain?', 'Average View Duration': 6722.0}\n",
      "{'Video ID': 38, 'Video Title': 'Fortnite Chapter 5 Season 1 Overview', 'Average View Duration': 6601.0}\n",
      "{'Video ID': 36, 'Video Title': 'How Quantum Computing Works', 'Average View Duration': 6316.0}\n",
      "{'Video ID': 26, 'Video Title': 'Training for Your First 5K', 'Average View Duration': 5855.0}\n",
      "{'Video ID': 52, 'Video Title': 'How CRISPR Gene Editing Works', 'Average View Duration': 5658.0}\n",
      "{'Video ID': 3, 'Video Title': 'The Ultimate Chocolate Brownies', 'Average View Duration': 5591.5}\n",
      "{'Video ID': 16, 'Video Title': 'Oppenheimer Movie Ending Explained', 'Average View Duration': 5531.0}\n",
      "{'Video ID': 45, 'Video Title': 'How to Refinish Old Furniture', 'Average View Duration': 5505.0}\n",
      "{'Video ID': 34, 'Video Title': 'Elden Ring Boss Guide: Malenia', 'Average View Duration': 5468.0}\n",
      "{'Video ID': 22, 'Video Title': 'Oscar Predictions 2025', 'Average View Duration': 5296.0}\n",
      "{'Video ID': 57, 'Video Title': 'Minecraft 1.21 Building Ideas', 'Average View Duration': 4956.333333333333}\n",
      "{'Video ID': 19, 'Video Title': \"Beginner's Guide to Statistics\", 'Average View Duration': 4858.333333333333}\n",
      "{'Video ID': 58, 'Video Title': 'Inside the Amazon Rainforest', 'Average View Duration': 4767.0}\n",
      "{'Video ID': 11, 'Video Title': 'How to Bake Perfect Sourdough', 'Average View Duration': 4534.0}\n",
      "{'Video ID': 25, 'Video Title': 'Top 10 Things to Do in Tokyo', 'Average View Duration': 4447.666666666667}\n",
      "{'Video ID': 43, 'Video Title': 'Speedrunning Super Mario Odyssey - 1 Hour', 'Average View Duration': 4201.0}\n",
      "{'Video ID': 47, 'Video Title': 'Piano Cover: Bohemian Rhapsody', 'Average View Duration': 4030.0}\n",
      "{'Video ID': 24, 'Video Title': 'Understanding Climate Change', 'Average View Duration': 3645.0}\n",
      "{'Video ID': 49, 'Video Title': 'The Story of Apollo 11', 'Average View Duration': 3606.75}\n",
      "{'Video ID': 8, 'Video Title': 'Top 10 Sci‑Fi Movies on Netflix', 'Average View Duration': 3579.0}\n",
      "{'Video ID': 20, 'Video Title': 'History of the Roman Empire', 'Average View Duration': 3527.0}\n",
      "{'Video ID': 51, 'Video Title': 'How to Travel Europe on $50 a Day', 'Average View Duration': 3504.3333333333335}\n",
      "{'Video ID': 12, 'Video Title': 'Building a Raspberry Pi Arcade', 'Average View Duration': 3481.0}\n",
      "{'Video ID': 7, 'Video Title': 'Arduino Smart Home Project', 'Average View Duration': 3189.6666666666665}\n",
      "{'Video ID': 42, 'Video Title': 'Best Beaches in Thailand', 'Average View Duration': 3130.0}\n",
      "{'Video ID': 13, 'Video Title': 'Best Plot Twists in Film History', 'Average View Duration': 3101.0}\n",
      "{'Video ID': 17, 'Video Title': 'Knife‑Making for Beginners', 'Average View Duration': 3042.0}\n",
      "{'Video ID': 53, 'Video Title': '10‑Minute Morning Stretch', 'Average View Duration': 3021.0}\n",
      "{'Video ID': 31, 'Video Title': 'How to Lose Fat without Losing Muscle', 'Average View Duration': 2456.0}\n",
      "{'Video ID': 6, 'Video Title': 'Backpacking Patagonia Guide', 'Average View Duration': 2419.0}\n",
      "{'Video ID': 4, 'Video Title': 'How to Mix Vocals in Logic Pro', 'Average View Duration': 2181.6666666666665}\n",
      "{'Video ID': 27, 'Video Title': 'Top 10 K‑Pop Songs of 2025', 'Average View Duration': 2159.0}\n",
      "{'Video ID': 15, 'Video Title': 'Marvel Phase 5 Timeline Breakdown', 'Average View Duration': 1675.0}\n",
      "{'Video ID': 14, 'Video Title': 'Painting Basics: Choosing Colors', 'Average View Duration': 1309.0}\n",
      "{'Video ID': 59, 'Video Title': 'Secrets of the Coral Reef', 'Average View Duration': 1092.0}\n",
      "{'Video ID': 41, 'Video Title': '5 Healthy Breakfast Ideas', 'Average View Duration': 951.0}\n",
      "{'Video ID': 28, 'Video Title': 'Best Budget Studio Monitors', 'Average View Duration': 881.0}\n",
      "{'Video ID': 29, 'Video Title': 'Home Dumbbell Workout Plan', 'Average View Duration': 796.0}\n",
      "{'Video ID': 55, 'Video Title': 'Top 5 Programming Languages to Learn', 'Average View Duration': 780.0}\n",
      "{'Video ID': 32, 'Video Title': 'Hidden Gems in Prague', 'Average View Duration': 567.0}\n",
      "{'Video ID': 50, 'Video Title': 'Dune Part Two Spoiler Review', 'Average View Duration': 561.0}\n"
     ]
    }
   ],
   "source": [
    "avg_view_duration_per_video = [\n",
    "    {\n",
    "        \"$group\": {\n",
    "            \"_id\": \"$Video ID\",\n",
    "            \"avg_view_duration\": { \"$avg\": \"$Duration Watched\" }\n",
    "        }\n",
    "    },\n",
    "    {\n",
    "        \"$lookup\": {\n",
    "            \"from\": \"videos\",\n",
    "            \"localField\": \"_id\",\n",
    "            \"foreignField\": \"Video ID\",\n",
    "            \"as\": \"video_info\"\n",
    "        }\n",
    "    },\n",
    "    {\n",
    "        \"$unwind\": \"$video_info\"\n",
    "    },\n",
    "    {\n",
    "        \"$project\": {\n",
    "            \"_id\": 0,\n",
    "            \"Video ID\": \"$_id\",\n",
    "            \"Video Title\": \"$video_info.Title\",\n",
    "            \"Average View Duration\": \"$avg_view_duration\"\n",
    "        }\n",
    "    },\n",
    "    {\n",
    "        \"$sort\": { \"Average View Duration\": -1 }\n",
    "    }\n",
    "]\n",
    "results = list(view_collection.aggregate(avg_view_duration_per_video))\n",
    "for r in results:\n",
    "    print(r)"
   ]
  },
  {
   "cell_type": "code",
   "execution_count": 85,
   "id": "1d393dbf",
   "metadata": {},
   "outputs": [
    {
     "name": "stdout",
     "output_type": "stream",
     "text": [
      "{'Average Watch Duration': 6299.333333333333, 'Country': 'China'}\n",
      "{'Average Watch Duration': 5590.333333333333, 'Country': 'Japan'}\n",
      "{'Average Watch Duration': 5283.2, 'Country': 'Netherlands'}\n",
      "{'Average Watch Duration': 5022.333333333333, 'Country': 'Mexico'}\n",
      "{'Average Watch Duration': 4953.0, 'Country': 'Singapore'}\n",
      "{'Average Watch Duration': 4439.4, 'Country': 'Germany'}\n",
      "{'Average Watch Duration': 3411.1666666666665, 'Country': 'Switzerland'}\n",
      "{'Average Watch Duration': 3298.75, 'Country': 'North Korea'}\n",
      "{'Average Watch Duration': 3192.0, 'Country': 'Italy'}\n",
      "{'Average Watch Duration': 3146.0, 'Country': 'United States'}\n",
      "{'Average Watch Duration': 3007.3333333333335, 'Country': 'United Kingdom'}\n",
      "{'Average Watch Duration': 2823.8333333333335, 'Country': 'South Korea'}\n",
      "{'Average Watch Duration': 2536.75, 'Country': 'India'}\n"
     ]
    }
   ],
   "source": [
    "avg_watch_duration_by_country = [\n",
    "    {\n",
    "        \"$lookup\": {\n",
    "            \"from\": \"users\",\n",
    "            \"localField\": \"User ID\",\n",
    "            \"foreignField\": \"User ID\",\n",
    "            \"as\": \"user_info\"\n",
    "        }\n",
    "    },\n",
    "    {\n",
    "        \"$unwind\": \"$user_info\"\n",
    "    },\n",
    "    {\n",
    "        \"$group\": {\n",
    "            \"_id\": \"$user_info.Country\",\n",
    "            \"Average Watch Duration\": { \"$avg\": \"$Duration Watched\" }\n",
    "        }\n",
    "    },\n",
    "    {\n",
    "        \"$project\": {\n",
    "            \"_id\": 0,\n",
    "            \"Country\": \"$_id\",\n",
    "            \"Average Watch Duration\": 1\n",
    "        }\n",
    "    },\n",
    "    {\n",
    "        \"$sort\": { \"Average Watch Duration\": -1 }\n",
    "    }\n",
    "]\n",
    "\n",
    "results = list(view_collection.aggregate(avg_watch_duration_by_country))\n",
    "for r in results:\n",
    "    print(r)\n"
   ]
  },
  {
   "cell_type": "code",
   "execution_count": 88,
   "id": "6a001300",
   "metadata": {},
   "outputs": [
    {
     "name": "stdout",
     "output_type": "stream",
     "text": [
      "{'Views Count': 15, 'Day': 'Friday'}\n",
      "{'Views Count': 13, 'Day': 'Sunday'}\n",
      "{'Views Count': 12, 'Day': 'Saturday'}\n",
      "{'Views Count': 11, 'Day': 'Thursday'}\n",
      "{'Views Count': 7, 'Day': 'Tuesday'}\n",
      "{'Views Count': 6, 'Day': 'Wednesday'}\n",
      "{'Views Count': 6, 'Day': 'Monday'}\n"
     ]
    }
   ],
   "source": [
    "most_active_days = [\n",
    "    {\n",
    "        \"$addFields\": {\n",
    "            \"view_date_parsed\": {\n",
    "                \"$dateFromString\": {\n",
    "                    \"dateString\": \"$View Date\"\n",
    "                }\n",
    "            }\n",
    "        }\n",
    "    },\n",
    "    {\n",
    "        \"$addFields\": {\n",
    "            \"day_of_week\": {\n",
    "                \"$dayOfWeek\": \"$view_date_parsed\"\n",
    "            }\n",
    "        }\n",
    "    },\n",
    "    {\n",
    "        \"$group\": {\n",
    "            \"_id\": \"$day_of_week\",\n",
    "            \"views_count\": { \"$sum\": 1 }\n",
    "        }\n",
    "    },\n",
    "    {\n",
    "        \"$project\": {\n",
    "            \"_id\": 0,\n",
    "            \"DayNum\": \"$_id\",\n",
    "            \"Views Count\": \"$views_count\"\n",
    "        }\n",
    "    },\n",
    "    {\n",
    "        \"$sort\": { \"Views Count\": -1 }\n",
    "    }\n",
    "]\n",
    "\n",
    "results = list(view_collection.aggregate(most_active_days))\n",
    "\n",
    "days_map = {\n",
    "    1: \"Sunday\", 2: \"Monday\", 3: \"Tuesday\", 4: \"Wednesday\",\n",
    "    5: \"Thursday\", 6: \"Friday\", 7: \"Saturday\"\n",
    "}\n",
    "\n",
    "for r in results:\n",
    "    r[\"Day\"] = days_map[r[\"DayNum\"]]\n",
    "    del r[\"DayNum\"]\n",
    "    print(r)\n"
   ]
  },
  {
   "cell_type": "code",
   "execution_count": 89,
   "id": "5a515207",
   "metadata": {},
   "outputs": [
    {
     "name": "stdout",
     "output_type": "stream",
     "text": [
      "{'User ID': 8, 'FirstName': 'Logan', 'LastName': 'Lee', 'Email': 'l.lee987@example.com'}\n",
      "{'User ID': 10, 'FirstName': 'Lucas', 'LastName': 'Wright', 'Email': 'lwright12@example.com'}\n",
      "{'User ID': 13, 'FirstName': 'Amelia', 'LastName': 'Adams', 'Email': 'amelia_adams@example.com'}\n",
      "{'User ID': 15, 'FirstName': 'Harper', 'LastName': 'Turner', 'Email': 'harper_turner12@example.com'}\n",
      "{'User ID': 24, 'FirstName': 'Sebastian', 'LastName': 'Ramirez', 'Email': 'sebastian38@example.com'}\n",
      "{'User ID': 31, 'FirstName': 'Zoe', 'LastName': 'Morales', 'Email': 'zoe_morales@example.com'}\n",
      "{'User ID': 34, 'FirstName': 'Joseph', 'LastName': 'Boyd', 'Email': 'joseph_boyd@example.com'}\n",
      "{'User ID': 45, 'FirstName': 'Ellie', 'LastName': 'Stone', 'Email': 'estone84@example.com'}\n",
      "{'User ID': 48, 'FirstName': 'Levi', 'LastName': 'Nichols', 'Email': 'levi78@example.com'}\n",
      "{'User ID': 50, 'FirstName': 'Isaac', 'LastName': 'Walters', 'Email': 'isaac27@example.com'}\n"
     ]
    }
   ],
   "source": [
    "users_with_no_views = [\n",
    "    {\n",
    "        \"$lookup\": {\n",
    "            \"from\": \"views\",\n",
    "            \"localField\": \"User ID\",\n",
    "            \"foreignField\": \"User ID\",\n",
    "            \"as\": \"user_views\"\n",
    "        }\n",
    "    },\n",
    "    {\n",
    "        \"$match\": {\n",
    "            \"user_views\": { \"$eq\": [] }\n",
    "        }\n",
    "    },\n",
    "    {\n",
    "        \"$project\": {\n",
    "            \"_id\": 0,\n",
    "            \"User ID\": 1,\n",
    "            \"FirstName\": 1,\n",
    "            \"LastName\": 1,\n",
    "            \"Email\": 1\n",
    "        }\n",
    "    }\n",
    "]\n",
    "results = list(user_collection.aggregate(users_with_no_views))\n",
    "for r in results:\n",
    "    print(r)\n"
   ]
  },
  {
   "cell_type": "code",
   "execution_count": 90,
   "id": "ea2a81a9",
   "metadata": {},
   "outputs": [
    {
     "name": "stdout",
     "output_type": "stream",
     "text": [
      "{'_id': 'Short', 'avg_completion_rate': 10.351816846920102, 'count': 16}\n",
      "{'_id': 'Medium', 'avg_completion_rate': 1.1942239110492137, 'count': 25}\n",
      "{'_id': 'Long', 'avg_completion_rate': 0.6332283390672808, 'count': 29}\n"
     ]
    }
   ],
   "source": [
    "completion_by_length = [\n",
    "    {\n",
    "        \"$lookup\": {\n",
    "            \"from\": \"videos\",\n",
    "            \"localField\": \"Video ID\",\n",
    "            \"foreignField\": \"Video ID\",\n",
    "            \"as\": \"video_info\"\n",
    "        }\n",
    "    },\n",
    "    { \"$unwind\": \"$video_info\" },\n",
    "    {\n",
    "        \"$addFields\": {\n",
    "            \"completion_rate\": {\n",
    "                \"$divide\": [\"$Duration Watched\", \"$video_info.Duration\"]\n",
    "            },\n",
    "            \"length_category\": {\n",
    "                \"$switch\": {\n",
    "                    \"branches\": [\n",
    "                        {\n",
    "                            \"case\": { \"$lt\": [\"$video_info.Duration\", 1800] },\n",
    "                            \"then\": \"Short\"\n",
    "                        },\n",
    "                        {\n",
    "                            \"case\": {\n",
    "                                \"$and\": [\n",
    "                                    { \"$gte\": [\"$video_info.Duration\", 1800] },\n",
    "                                    { \"$lte\": [\"$video_info.Duration\", 4800] }\n",
    "                                ]\n",
    "                            },\n",
    "                            \"then\": \"Medium\"\n",
    "                        }\n",
    "                    ],\n",
    "                    \"default\": \"Long\"\n",
    "                }\n",
    "            }\n",
    "        }\n",
    "    },\n",
    "    {\n",
    "        \"$group\": {\n",
    "            \"_id\": \"$length_category\",\n",
    "            \"avg_completion_rate\": { \"$avg\": \"$completion_rate\" },\n",
    "            \"count\": { \"$sum\": 1 }\n",
    "        }\n",
    "    },\n",
    "    { \"$sort\": { \"avg_completion_rate\": -1 } }\n",
    "]\n",
    "results = list(view_collection.aggregate(completion_by_length))\n",
    "for r in results:\n",
    "    print(r)\n"
   ]
  },
  {
   "cell_type": "code",
   "execution_count": 91,
   "id": "77d078e6",
   "metadata": {},
   "outputs": [
    {
     "name": "stdout",
     "output_type": "stream",
     "text": [
      "{'Video ID': 49, 'Video Title': 'The Story of Apollo 11', 'Number of Views': 4}\n",
      "{'Video ID': 24, 'Video Title': 'Understanding Climate Change', 'Number of Views': 4}\n",
      "{'Video ID': 8, 'Video Title': 'Top 10 Sci‑Fi Movies on Netflix', 'Number of Views': 3}\n",
      "{'Video ID': 4, 'Video Title': 'How to Mix Vocals in Logic Pro', 'Number of Views': 3}\n",
      "{'Video ID': 7, 'Video Title': 'Arduino Smart Home Project', 'Number of Views': 3}\n",
      "{'Video ID': 19, 'Video Title': \"Beginner's Guide to Statistics\", 'Number of Views': 3}\n",
      "{'Video ID': 25, 'Video Title': 'Top 10 Things to Do in Tokyo', 'Number of Views': 3}\n",
      "{'Video ID': 51, 'Video Title': 'How to Travel Europe on $50 a Day', 'Number of Views': 3}\n",
      "{'Video ID': 57, 'Video Title': 'Minecraft 1.21 Building Ideas', 'Number of Views': 3}\n",
      "{'Video ID': 52, 'Video Title': 'How CRISPR Gene Editing Works', 'Number of Views': 2}\n",
      "{'Video ID': 40, 'Video Title': 'Songwriting 101: Melody vs Lyrics', 'Number of Views': 2}\n",
      "{'Video ID': 41, 'Video Title': '5 Healthy Breakfast Ideas', 'Number of Views': 2}\n",
      "{'Video ID': 47, 'Video Title': 'Piano Cover: Bohemian Rhapsody', 'Number of Views': 2}\n",
      "{'Video ID': 53, 'Video Title': '10‑Minute Morning Stretch', 'Number of Views': 2}\n",
      "{'Video ID': 3, 'Video Title': 'The Ultimate Chocolate Brownies', 'Number of Views': 2}\n",
      "{'Video ID': 43, 'Video Title': 'Speedrunning Super Mario Odyssey - 1 Hour', 'Number of Views': 2}\n",
      "{'Video ID': 58, 'Video Title': 'Inside the Amazon Rainforest', 'Number of Views': 1}\n",
      "{'Video ID': 15, 'Video Title': 'Marvel Phase 5 Timeline Breakdown', 'Number of Views': 1}\n",
      "{'Video ID': 12, 'Video Title': 'Building a Raspberry Pi Arcade', 'Number of Views': 1}\n",
      "{'Video ID': 55, 'Video Title': 'Top 5 Programming Languages to Learn', 'Number of Views': 1}\n",
      "{'Video ID': 36, 'Video Title': 'How Quantum Computing Works', 'Number of Views': 1}\n",
      "{'Video ID': 50, 'Video Title': 'Dune Part Two Spoiler Review', 'Number of Views': 1}\n",
      "{'Video ID': 21, 'Video Title': '5 Yoga Poses for Back Pain', 'Number of Views': 1}\n",
      "{'Video ID': 17, 'Video Title': 'Knife‑Making for Beginners', 'Number of Views': 1}\n",
      "{'Video ID': 27, 'Video Title': 'Top 10 K‑Pop Songs of 2025', 'Number of Views': 1}\n",
      "{'Video ID': 22, 'Video Title': 'Oscar Predictions 2025', 'Number of Views': 1}\n",
      "{'Video ID': 32, 'Video Title': 'Hidden Gems in Prague', 'Number of Views': 1}\n",
      "{'Video ID': 59, 'Video Title': 'Secrets of the Coral Reef', 'Number of Views': 1}\n",
      "{'Video ID': 13, 'Video Title': 'Best Plot Twists in Film History', 'Number of Views': 1}\n",
      "{'Video ID': 11, 'Video Title': 'How to Bake Perfect Sourdough', 'Number of Views': 1}\n",
      "{'Video ID': 34, 'Video Title': 'Elden Ring Boss Guide: Malenia', 'Number of Views': 1}\n",
      "{'Video ID': 29, 'Video Title': 'Home Dumbbell Workout Plan', 'Number of Views': 1}\n",
      "{'Video ID': 45, 'Video Title': 'How to Refinish Old Furniture', 'Number of Views': 1}\n",
      "{'Video ID': 31, 'Video Title': 'How to Lose Fat without Losing Muscle', 'Number of Views': 1}\n",
      "{'Video ID': 38, 'Video Title': 'Fortnite Chapter 5 Season 1 Overview', 'Number of Views': 1}\n",
      "{'Video ID': 26, 'Video Title': 'Training for Your First 5K', 'Number of Views': 1}\n",
      "{'Video ID': 28, 'Video Title': 'Best Budget Studio Monitors', 'Number of Views': 1}\n",
      "{'Video ID': 6, 'Video Title': 'Backpacking Patagonia Guide', 'Number of Views': 1}\n",
      "{'Video ID': 23, 'Video Title': 'What is the Blockchain?', 'Number of Views': 1}\n",
      "{'Video ID': 14, 'Video Title': 'Painting Basics: Choosing Colors', 'Number of Views': 1}\n",
      "{'Video ID': 42, 'Video Title': 'Best Beaches in Thailand', 'Number of Views': 1}\n",
      "{'Video ID': 16, 'Video Title': 'Oppenheimer Movie Ending Explained', 'Number of Views': 1}\n",
      "{'Video ID': 20, 'Video Title': 'History of the Roman Empire', 'Number of Views': 1}\n"
     ]
    }
   ],
   "source": [
    "videos_with_most_views = [\n",
    "    {\n",
    "        \"$group\": {\n",
    "            \"_id\": \"$Video ID\",\n",
    "            \"views_count\": { \"$sum\": 1 }\n",
    "        }\n",
    "    },\n",
    "    {\n",
    "        \"$lookup\": {\n",
    "            \"from\": \"videos\",\n",
    "            \"localField\": \"_id\",\n",
    "            \"foreignField\": \"Video ID\",\n",
    "            \"as\": \"video_info\"\n",
    "        }\n",
    "    },\n",
    "    {\n",
    "        \"$unwind\": \"$video_info\"\n",
    "    },\n",
    "    {\n",
    "        \"$project\": {\n",
    "            \"_id\": 0,\n",
    "            \"Video ID\": \"$_id\",\n",
    "            \"Video Title\": \"$video_info.Title\",\n",
    "            \"Number of Views\": \"$views_count\"\n",
    "        }\n",
    "    },\n",
    "    {\n",
    "        \"$sort\": { \"Number of Views\": -1 }\n",
    "    }\n",
    "]\n",
    "results = list(view_collection.aggregate(videos_with_most_views))\n",
    "for r in results:\n",
    "    print(r)"
   ]
  },
  {
   "cell_type": "code",
   "execution_count": 92,
   "id": "c65dd26a",
   "metadata": {},
   "outputs": [
    {
     "name": "stdout",
     "output_type": "stream",
     "text": [
      "{'Category': 'DIY', 'Video Title': 'How to Refinish Old Furniture', 'Rating': 4.89, 'Video ID': 45}\n",
      "{'Category': 'Documentary', 'Video Title': 'Secrets of the Coral Reef', 'Rating': 4.65, 'Video ID': 59}\n",
      "{'Category': 'Education', 'Video Title': 'Relativity Explained in 10 Minutes', 'Rating': 4.59, 'Video ID': 30}\n",
      "{'Category': 'Fitness', 'Video Title': '5 Yoga Poses for Back Pain', 'Rating': 4.96, 'Video ID': 21}\n",
      "{'Category': 'Food', 'Video Title': 'How to Bake Perfect Sourdough', 'Rating': 4.98, 'Video ID': 11}\n",
      "{'Category': 'Gaming', 'Video Title': 'Minecraft 1.21 Building Ideas', 'Rating': 4.93, 'Video ID': 57}\n",
      "{'Category': 'Movies', 'Video Title': 'Dune Part Two Spoiler Review', 'Rating': 4.84, 'Video ID': 50}\n",
      "{'Category': 'Music', 'Video Title': 'Top 10 K‑Pop Songs of 2025', 'Rating': 4.7, 'Video ID': 27}\n",
      "{'Category': 'Technology', 'Video Title': 'How Quantum Computing Works', 'Rating': 4.35, 'Video ID': 36}\n",
      "{'Category': 'Travel', 'Video Title': 'How to Travel Europe on $50 a Day', 'Rating': 4.75, 'Video ID': 51}\n"
     ]
    }
   ],
   "source": [
    "top_rated_videos_by_category = [\n",
    "    {\n",
    "        \"$sort\": { \"Rating\": -1 }\n",
    "    },\n",
    "    {\n",
    "        \"$group\": {\n",
    "            \"_id\": \"$Category\",\n",
    "            \"Top Video\": {\n",
    "                \"$first\": {\n",
    "                    \"Title\": \"$Title\",\n",
    "                    \"Rating\": \"$Rating\",\n",
    "                    \"Video ID\": \"$Video ID\"\n",
    "                }\n",
    "            }\n",
    "        }\n",
    "    },\n",
    "    {\n",
    "        \"$project\": {\n",
    "            \"_id\": 0,\n",
    "            \"Category\": \"$_id\",\n",
    "            \"Video Title\": \"$Top Video.Title\",\n",
    "            \"Rating\": \"$Top Video.Rating\",\n",
    "            \"Video ID\": \"$Top Video.Video ID\"\n",
    "        }\n",
    "    },\n",
    "    {\n",
    "        \"$sort\": { \"Category\": 1 }\n",
    "    }\n",
    "]\n",
    "\n",
    "results = list(video_collection.aggregate(top_rated_videos_by_category))\n",
    "for r in results:\n",
    "    print(r)\n"
   ]
  },
  {
   "cell_type": "code",
   "execution_count": 95,
   "id": "fbe94aaa",
   "metadata": {},
   "outputs": [
    {
     "name": "stdout",
     "output_type": "stream",
     "text": [
      "{'Channel ID': 6, 'Channel Name': 'Fitness Pro Tips', 'Video Count': 12}\n",
      "{'Channel ID': 1, 'Channel Name': 'Epic Gaming Hub', 'Video Count': 8}\n",
      "{'Channel ID': 3, 'Channel Name': 'Cinema Corner', 'Video Count': 7}\n",
      "{'Channel ID': 8, 'Channel Name': 'World Travel Vlogs', 'Video Count': 7}\n",
      "{'Channel ID': 9, 'Channel Name': 'Science Explained', 'Video Count': 6}\n",
      "{'Channel ID': 4, 'Channel Name': 'HomeCooking Daily', 'Video Count': 6}\n",
      "{'Channel ID': 7, 'Channel Name': 'DIY Maker Lab', 'Video Count': 5}\n",
      "{'Channel ID': 2, 'Channel Name': 'QuickTech Reviews', 'Video Count': 4}\n",
      "{'Channel ID': 10, 'Channel Name': 'Indie Music Lounge', 'Video Count': 3}\n",
      "{'Channel ID': 5, 'Channel Name': 'Guitar Masters', 'Video Count': 2}\n"
     ]
    }
   ],
   "source": [
    "channels_with_most_videos = [\n",
    "    {\n",
    "        \"$group\": {\n",
    "            \"_id\": \"$Channel ID\",\n",
    "            \"videos_count\": { \"$sum\": 1 }\n",
    "        }\n",
    "    },\n",
    "    {\n",
    "        \"$lookup\": {\n",
    "            \"from\": \"channels\",\n",
    "            \"localField\": \"_id\",\n",
    "            \"foreignField\": \"Channel ID\",\n",
    "            \"as\": \"channel_info\"\n",
    "        }\n",
    "    },\n",
    "    {\n",
    "        \"$unwind\": \"$channel_info\"\n",
    "    },\n",
    "    {\n",
    "        \"$project\": {\n",
    "            \"_id\": 0,\n",
    "            \"Channel ID\": \"$_id\",\n",
    "            \"Channel Name\": \"$channel_info.Name\",\n",
    "            \"Video Count\": \"$videos_count\"\n",
    "        }\n",
    "    },\n",
    "    {\n",
    "        \"$sort\": { \"Video Count\": -1 }\n",
    "    }\n",
    "]\n",
    "results = list(video_collection.aggregate(channels_with_most_videos))\n",
    "for r in results:\n",
    "    print(r)"
   ]
  },
  {
   "cell_type": "code",
   "execution_count": null,
   "id": "9c482d29",
   "metadata": {},
   "outputs": [],
   "source": []
  }
 ],
 "metadata": {
  "kernelspec": {
   "display_name": "Python 3 (ipykernel)",
   "language": "python",
   "name": "python3"
  },
  "language_info": {
   "codemirror_mode": {
    "name": "ipython",
    "version": 3
   },
   "file_extension": ".py",
   "mimetype": "text/x-python",
   "name": "python",
   "nbconvert_exporter": "python",
   "pygments_lexer": "ipython3",
   "version": "3.11.4"
  }
 },
 "nbformat": 4,
 "nbformat_minor": 5
}
