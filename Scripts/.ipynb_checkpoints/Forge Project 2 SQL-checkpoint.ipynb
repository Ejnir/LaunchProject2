{
 "cells": [
  {
   "cell_type": "code",
   "execution_count": 1,
   "id": "3c5fd484",
   "metadata": {},
   "outputs": [
    {
     "name": "stdout",
     "output_type": "stream",
     "text": [
      "Requirement already satisfied: sqlalchemy in /Applications/anaconda3/lib/python3.11/site-packages (1.4.39)\n",
      "Requirement already satisfied: pymysql in /Applications/anaconda3/lib/python3.11/site-packages (1.1.1)\n"
     ]
    }
   ],
   "source": [
    "!pip install sqlalchemy\n",
    "!pip install pymysql\n",
    "\n",
    "import sqlalchemy\n",
    "import pymysql\n",
    "from sqlalchemy import create_engine\n",
    "import pandas as pd"
   ]
  },
  {
   "cell_type": "code",
   "execution_count": 2,
   "id": "f691ac82",
   "metadata": {},
   "outputs": [],
   "source": [
    "password = 'Fill in your own password here'\n",
    "db_name = 'forge_project2'"
   ]
  },
  {
   "cell_type": "code",
   "execution_count": 3,
   "id": "d998db2e",
   "metadata": {},
   "outputs": [],
   "source": [
    "conn = pymysql.connect(host='127.0.0.1', port=3306, user='root', password=password, database=db_name)"
   ]
  },
  {
   "cell_type": "code",
   "execution_count": 4,
   "id": "697faa49",
   "metadata": {},
   "outputs": [],
   "source": [
    "connection = create_engine(\"mysql+pymysql://root:\" + password + \"@localhost:3306/\" + db_name)"
   ]
  },
  {
   "cell_type": "code",
   "execution_count": 5,
   "id": "0c006225",
   "metadata": {},
   "outputs": [],
   "source": [
    "video = pd.read_csv('../sqldata/sql_video.csv')"
   ]
  },
  {
   "cell_type": "code",
   "execution_count": 6,
   "id": "b1fcb6d9",
   "metadata": {},
   "outputs": [],
   "source": [
    "channel = pd.read_csv('../sqldata/sql_channel.csv')"
   ]
  },
  {
   "cell_type": "code",
   "execution_count": 7,
   "id": "748521ff",
   "metadata": {},
   "outputs": [],
   "source": [
    "subscription = pd.read_csv('../sqldata/sql_subscription.csv')"
   ]
  },
  {
   "cell_type": "code",
   "execution_count": 8,
   "id": "8e3537b8",
   "metadata": {},
   "outputs": [],
   "source": [
    "view = pd.read_csv('../sqldata/sql_view.csv')"
   ]
  },
  {
   "cell_type": "code",
   "execution_count": 9,
   "id": "4004f589",
   "metadata": {},
   "outputs": [],
   "source": [
    "user = pd.read_csv('../sqldata/sql_user.csv')"
   ]
  },
  {
   "cell_type": "code",
   "execution_count": 10,
   "id": "6ef5b249",
   "metadata": {},
   "outputs": [],
   "source": [
    "owner = pd.read_csv('../sqldata/sql_owner.csv')"
   ]
  },
  {
   "cell_type": "code",
   "execution_count": 11,
   "id": "87e063e6",
   "metadata": {},
   "outputs": [],
   "source": [
    "video_table = 'videos'\n",
    "channel_table = 'channels'\n",
    "subscription_table = 'subscriptions'\n",
    "view_table = 'views'\n",
    "user_table = 'users'\n",
    "owner_table = 'owners'"
   ]
  },
  {
   "cell_type": "code",
   "execution_count": 100,
   "id": "1bfed33d",
   "metadata": {},
   "outputs": [
    {
     "data": {
      "text/plain": [
       "60"
      ]
     },
     "execution_count": 100,
     "metadata": {},
     "output_type": "execute_result"
    }
   ],
   "source": [
    "video.to_sql(name=video_table, con=connection, if_exists='replace', index=False)"
   ]
  },
  {
   "cell_type": "code",
   "execution_count": 101,
   "id": "6d5aa212",
   "metadata": {},
   "outputs": [
    {
     "data": {
      "text/plain": [
       "10"
      ]
     },
     "execution_count": 101,
     "metadata": {},
     "output_type": "execute_result"
    }
   ],
   "source": [
    "channel.to_sql(name=channel_table, con=connection, if_exists='replace', index=False)"
   ]
  },
  {
   "cell_type": "code",
   "execution_count": 102,
   "id": "e629748a",
   "metadata": {},
   "outputs": [
    {
     "data": {
      "text/plain": [
       "50"
      ]
     },
     "execution_count": 102,
     "metadata": {},
     "output_type": "execute_result"
    }
   ],
   "source": [
    "subscription.to_sql(name=subscription_table, con=connection, if_exists='replace', index=False)"
   ]
  },
  {
   "cell_type": "code",
   "execution_count": 103,
   "id": "cc138421",
   "metadata": {},
   "outputs": [
    {
     "data": {
      "text/plain": [
       "70"
      ]
     },
     "execution_count": 103,
     "metadata": {},
     "output_type": "execute_result"
    }
   ],
   "source": [
    "view.to_sql(name=view_table, con=connection, if_exists='replace', index=False)"
   ]
  },
  {
   "cell_type": "code",
   "execution_count": 104,
   "id": "7f3625a0",
   "metadata": {},
   "outputs": [
    {
     "data": {
      "text/plain": [
       "50"
      ]
     },
     "execution_count": 104,
     "metadata": {},
     "output_type": "execute_result"
    }
   ],
   "source": [
    "user.to_sql(name=user_table, con=connection, if_exists='replace', index=False)"
   ]
  },
  {
   "cell_type": "code",
   "execution_count": 105,
   "id": "cfc28fa3",
   "metadata": {},
   "outputs": [
    {
     "data": {
      "text/plain": [
       "10"
      ]
     },
     "execution_count": 105,
     "metadata": {},
     "output_type": "execute_result"
    }
   ],
   "source": [
    "owner.to_sql(name=owner_table, con=connection, if_exists='replace', index=False)"
   ]
  },
  {
   "cell_type": "code",
   "execution_count": 106,
   "id": "81882a58",
   "metadata": {},
   "outputs": [],
   "source": [
    "# Top 5 Videos by Total Watch Time\n",
    "query1 = \"\"\"\n",
    "\n",
    "SELECT videos.Title, SUM(`Duration Watched`) AS total_watch_time\n",
    "FROM views\n",
    "LEFT JOIN videos ON views.`Video ID` = videos.`Video ID`\n",
    "GROUP BY videos.Title \n",
    "ORDER BY total_watch_time DESC\n",
    "LIMIT 5\n",
    "\n",
    "\n",
    "\"\"\""
   ]
  },
  {
   "cell_type": "code",
   "execution_count": 107,
   "id": "c6fae4a4",
   "metadata": {},
   "outputs": [],
   "source": [
    "result_df = pd.read_sql(query1, con=connection)"
   ]
  },
  {
   "cell_type": "code",
   "execution_count": 108,
   "id": "fc72c7bf",
   "metadata": {},
   "outputs": [
    {
     "data": {
      "text/html": [
       "<div>\n",
       "<style scoped>\n",
       "    .dataframe tbody tr th:only-of-type {\n",
       "        vertical-align: middle;\n",
       "    }\n",
       "\n",
       "    .dataframe tbody tr th {\n",
       "        vertical-align: top;\n",
       "    }\n",
       "\n",
       "    .dataframe thead th {\n",
       "        text-align: right;\n",
       "    }\n",
       "</style>\n",
       "<table border=\"1\" class=\"dataframe\">\n",
       "  <thead>\n",
       "    <tr style=\"text-align: right;\">\n",
       "      <th></th>\n",
       "      <th>Title</th>\n",
       "      <th>total_watch_time</th>\n",
       "    </tr>\n",
       "  </thead>\n",
       "  <tbody>\n",
       "    <tr>\n",
       "      <th>0</th>\n",
       "      <td>Minecraft 1.21 Building Ideas</td>\n",
       "      <td>14869.0</td>\n",
       "    </tr>\n",
       "    <tr>\n",
       "      <th>1</th>\n",
       "      <td>Understanding Climate Change</td>\n",
       "      <td>14580.0</td>\n",
       "    </tr>\n",
       "    <tr>\n",
       "      <th>2</th>\n",
       "      <td>Beginner's Guide to Statistics</td>\n",
       "      <td>14575.0</td>\n",
       "    </tr>\n",
       "    <tr>\n",
       "      <th>3</th>\n",
       "      <td>The Story of Apollo 11</td>\n",
       "      <td>14427.0</td>\n",
       "    </tr>\n",
       "    <tr>\n",
       "      <th>4</th>\n",
       "      <td>Songwriting 101: Melody vs Lyrics</td>\n",
       "      <td>13964.0</td>\n",
       "    </tr>\n",
       "  </tbody>\n",
       "</table>\n",
       "</div>"
      ],
      "text/plain": [
       "                               Title  total_watch_time\n",
       "0      Minecraft 1.21 Building Ideas           14869.0\n",
       "1       Understanding Climate Change           14580.0\n",
       "2     Beginner's Guide to Statistics           14575.0\n",
       "3             The Story of Apollo 11           14427.0\n",
       "4  Songwriting 101: Melody vs Lyrics           13964.0"
      ]
     },
     "execution_count": 108,
     "metadata": {},
     "output_type": "execute_result"
    }
   ],
   "source": [
    "result_df"
   ]
  },
  {
   "cell_type": "code",
   "execution_count": 118,
   "id": "1b0a4865",
   "metadata": {},
   "outputs": [],
   "source": [
    "query2 = \"\"\"\n",
    "\n",
    "SELECT Category, AVG(Rating) AS average_rating\n",
    "FROM videos\n",
    "GROUP BY Category\n",
    "ORDER BY average_rating DESC\n",
    "\n",
    "\"\"\""
   ]
  },
  {
   "cell_type": "code",
   "execution_count": 119,
   "id": "3afdc40d",
   "metadata": {},
   "outputs": [],
   "source": [
    "result_df_2 = pd.read_sql(query2, con=connection)"
   ]
  },
  {
   "cell_type": "code",
   "execution_count": 120,
   "id": "44053058",
   "metadata": {},
   "outputs": [
    {
     "data": {
      "text/html": [
       "<div>\n",
       "<style scoped>\n",
       "    .dataframe tbody tr th:only-of-type {\n",
       "        vertical-align: middle;\n",
       "    }\n",
       "\n",
       "    .dataframe tbody tr th {\n",
       "        vertical-align: top;\n",
       "    }\n",
       "\n",
       "    .dataframe thead th {\n",
       "        text-align: right;\n",
       "    }\n",
       "</style>\n",
       "<table border=\"1\" class=\"dataframe\">\n",
       "  <thead>\n",
       "    <tr style=\"text-align: right;\">\n",
       "      <th></th>\n",
       "      <th>Category</th>\n",
       "      <th>average_rating</th>\n",
       "    </tr>\n",
       "  </thead>\n",
       "  <tbody>\n",
       "    <tr>\n",
       "      <th>0</th>\n",
       "      <td>Food</td>\n",
       "      <td>4.113333</td>\n",
       "    </tr>\n",
       "    <tr>\n",
       "      <th>1</th>\n",
       "      <td>Gaming</td>\n",
       "      <td>4.081667</td>\n",
       "    </tr>\n",
       "    <tr>\n",
       "      <th>2</th>\n",
       "      <td>Education</td>\n",
       "      <td>4.013333</td>\n",
       "    </tr>\n",
       "    <tr>\n",
       "      <th>3</th>\n",
       "      <td>Technology</td>\n",
       "      <td>3.976667</td>\n",
       "    </tr>\n",
       "    <tr>\n",
       "      <th>4</th>\n",
       "      <td>Fitness</td>\n",
       "      <td>3.806667</td>\n",
       "    </tr>\n",
       "    <tr>\n",
       "      <th>5</th>\n",
       "      <td>DIY</td>\n",
       "      <td>3.798333</td>\n",
       "    </tr>\n",
       "    <tr>\n",
       "      <th>6</th>\n",
       "      <td>Travel</td>\n",
       "      <td>3.616667</td>\n",
       "    </tr>\n",
       "    <tr>\n",
       "      <th>7</th>\n",
       "      <td>Documentary</td>\n",
       "      <td>3.591667</td>\n",
       "    </tr>\n",
       "    <tr>\n",
       "      <th>8</th>\n",
       "      <td>Music</td>\n",
       "      <td>3.545000</td>\n",
       "    </tr>\n",
       "    <tr>\n",
       "      <th>9</th>\n",
       "      <td>Movies</td>\n",
       "      <td>3.368333</td>\n",
       "    </tr>\n",
       "  </tbody>\n",
       "</table>\n",
       "</div>"
      ],
      "text/plain": [
       "      Category  average_rating\n",
       "0         Food        4.113333\n",
       "1       Gaming        4.081667\n",
       "2    Education        4.013333\n",
       "3   Technology        3.976667\n",
       "4      Fitness        3.806667\n",
       "5          DIY        3.798333\n",
       "6       Travel        3.616667\n",
       "7  Documentary        3.591667\n",
       "8        Music        3.545000\n",
       "9       Movies        3.368333"
      ]
     },
     "execution_count": 120,
     "metadata": {},
     "output_type": "execute_result"
    }
   ],
   "source": [
    "result_df_2"
   ]
  },
  {
   "cell_type": "code",
   "execution_count": null,
   "id": "341c3e1a",
   "metadata": {},
   "outputs": [],
   "source": []
  }
 ],
 "metadata": {
  "kernelspec": {
   "display_name": "Python 3 (ipykernel)",
   "language": "python",
   "name": "python3"
  },
  "language_info": {
   "codemirror_mode": {
    "name": "ipython",
    "version": 3
   },
   "file_extension": ".py",
   "mimetype": "text/x-python",
   "name": "python",
   "nbconvert_exporter": "python",
   "pygments_lexer": "ipython3",
   "version": "3.11.4"
  }
 },
 "nbformat": 4,
 "nbformat_minor": 5
}
