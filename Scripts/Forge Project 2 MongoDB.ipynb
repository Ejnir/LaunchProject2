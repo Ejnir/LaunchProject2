{
 "cells": [
  {
   "cell_type": "code",
   "execution_count": 1,
   "id": "2ddf97bf",
   "metadata": {},
   "outputs": [
    {
     "name": "stdout",
     "output_type": "stream",
     "text": [
      "Requirement already satisfied: pymongo in /Applications/anaconda3/lib/python3.11/site-packages (4.13.0)\n",
      "Requirement already satisfied: dnspython<3.0.0,>=1.16.0 in /Applications/anaconda3/lib/python3.11/site-packages (from pymongo) (2.7.0)\n",
      "Note: you may need to restart the kernel to use updated packages.\n"
     ]
    }
   ],
   "source": [
    "pip install pymongo"
   ]
  },
  {
   "cell_type": "code",
   "execution_count": 2,
   "id": "e8fc7b84",
   "metadata": {},
   "outputs": [],
   "source": [
    "import pymongo\n",
    "from pymongo import MongoClient\n",
    "import pandas as pd"
   ]
  },
  {
   "cell_type": "code",
   "execution_count": 3,
   "id": "2f81a1cf",
   "metadata": {},
   "outputs": [],
   "source": [
    "client = MongoClient('localhost', 27017)"
   ]
  },
  {
   "cell_type": "code",
   "execution_count": 4,
   "id": "3f85c125",
   "metadata": {},
   "outputs": [
    {
     "data": {
      "text/plain": [
       "MongoClient(host=['localhost:27017'], document_class=dict, tz_aware=False, connect=True)"
      ]
     },
     "execution_count": 4,
     "metadata": {},
     "output_type": "execute_result"
    }
   ],
   "source": [
    "client"
   ]
  },
  {
   "cell_type": "code",
   "execution_count": 5,
   "id": "0b9b5146",
   "metadata": {},
   "outputs": [],
   "source": [
    "db = client.streaming"
   ]
  },
  {
   "cell_type": "code",
   "execution_count": 6,
   "id": "8643a4f6",
   "metadata": {},
   "outputs": [],
   "source": [
    "video = pd.read_csv('../sqldata/sql_video.csv')\n",
    "video_dict = video.to_dict('records')"
   ]
  },
  {
   "cell_type": "code",
   "execution_count": 7,
   "id": "c93e33b1",
   "metadata": {},
   "outputs": [],
   "source": [
    "channel = pd.read_csv('../sqldata/sql_channel.csv')\n",
    "channel_dict = channel.to_dict('records')"
   ]
  },
  {
   "cell_type": "code",
   "execution_count": 8,
   "id": "0994dcc4",
   "metadata": {},
   "outputs": [],
   "source": [
    "subscription = pd.read_csv('../sqldata/sql_subscription.csv')\n",
    "subscription_dict = subscription.to_dict('records')"
   ]
  },
  {
   "cell_type": "code",
   "execution_count": 9,
   "id": "43d5d78f",
   "metadata": {},
   "outputs": [],
   "source": [
    "view = pd.read_csv('../sqldata/sql_view.csv')\n",
    "view_dict = view.to_dict('records')"
   ]
  },
  {
   "cell_type": "code",
   "execution_count": 10,
   "id": "2ed33954",
   "metadata": {},
   "outputs": [],
   "source": [
    "user = pd.read_csv('../sqldata/sql_user.csv')\n",
    "user_dict = user.to_dict('records')"
   ]
  },
  {
   "cell_type": "code",
   "execution_count": 11,
   "id": "733240ad",
   "metadata": {},
   "outputs": [],
   "source": [
    "owner = pd.read_csv('../sqldata/sql_owner.csv')\n",
    "owner_dict = owner.to_dict('records')"
   ]
  },
  {
   "cell_type": "code",
   "execution_count": 12,
   "id": "5d981640",
   "metadata": {},
   "outputs": [],
   "source": [
    "video_collection = db.videos\n",
    "channel_collection = db.channels\n",
    "subscription_collection = db.subscriptions\n",
    "view_collection = db.views\n",
    "user_collection = db.users\n",
    "owner_collection = db.owners"
   ]
  },
  {
   "cell_type": "code",
   "execution_count": 13,
   "id": "9b4ce386",
   "metadata": {},
   "outputs": [
    {
     "data": {
      "text/plain": [
       "InsertManyResult([ObjectId('6836111137164dc083ed00b6'), ObjectId('6836111137164dc083ed00b7'), ObjectId('6836111137164dc083ed00b8'), ObjectId('6836111137164dc083ed00b9'), ObjectId('6836111137164dc083ed00ba'), ObjectId('6836111137164dc083ed00bb'), ObjectId('6836111137164dc083ed00bc'), ObjectId('6836111137164dc083ed00bd'), ObjectId('6836111137164dc083ed00be'), ObjectId('6836111137164dc083ed00bf'), ObjectId('6836111137164dc083ed00c0'), ObjectId('6836111137164dc083ed00c1'), ObjectId('6836111137164dc083ed00c2'), ObjectId('6836111137164dc083ed00c3'), ObjectId('6836111137164dc083ed00c4'), ObjectId('6836111137164dc083ed00c5'), ObjectId('6836111137164dc083ed00c6'), ObjectId('6836111137164dc083ed00c7'), ObjectId('6836111137164dc083ed00c8'), ObjectId('6836111137164dc083ed00c9'), ObjectId('6836111137164dc083ed00ca'), ObjectId('6836111137164dc083ed00cb'), ObjectId('6836111137164dc083ed00cc'), ObjectId('6836111137164dc083ed00cd'), ObjectId('6836111137164dc083ed00ce'), ObjectId('6836111137164dc083ed00cf'), ObjectId('6836111137164dc083ed00d0'), ObjectId('6836111137164dc083ed00d1'), ObjectId('6836111137164dc083ed00d2'), ObjectId('6836111137164dc083ed00d3'), ObjectId('6836111137164dc083ed00d4'), ObjectId('6836111137164dc083ed00d5'), ObjectId('6836111137164dc083ed00d6'), ObjectId('6836111137164dc083ed00d7'), ObjectId('6836111137164dc083ed00d8'), ObjectId('6836111137164dc083ed00d9'), ObjectId('6836111137164dc083ed00da'), ObjectId('6836111137164dc083ed00db'), ObjectId('6836111137164dc083ed00dc'), ObjectId('6836111137164dc083ed00dd'), ObjectId('6836111137164dc083ed00de'), ObjectId('6836111137164dc083ed00df'), ObjectId('6836111137164dc083ed00e0'), ObjectId('6836111137164dc083ed00e1'), ObjectId('6836111137164dc083ed00e2'), ObjectId('6836111137164dc083ed00e3'), ObjectId('6836111137164dc083ed00e4'), ObjectId('6836111137164dc083ed00e5'), ObjectId('6836111137164dc083ed00e6'), ObjectId('6836111137164dc083ed00e7'), ObjectId('6836111137164dc083ed00e8'), ObjectId('6836111137164dc083ed00e9'), ObjectId('6836111137164dc083ed00ea'), ObjectId('6836111137164dc083ed00eb'), ObjectId('6836111137164dc083ed00ec'), ObjectId('6836111137164dc083ed00ed'), ObjectId('6836111137164dc083ed00ee'), ObjectId('6836111137164dc083ed00ef'), ObjectId('6836111137164dc083ed00f0'), ObjectId('6836111137164dc083ed00f1')], acknowledged=True)"
      ]
     },
     "execution_count": 13,
     "metadata": {},
     "output_type": "execute_result"
    }
   ],
   "source": [
    "video_collection.insert_many(video_dict)"
   ]
  },
  {
   "cell_type": "code",
   "execution_count": 14,
   "id": "382fadf3",
   "metadata": {},
   "outputs": [
    {
     "data": {
      "text/plain": [
       "InsertManyResult([ObjectId('6836111437164dc083ed00f2'), ObjectId('6836111437164dc083ed00f3'), ObjectId('6836111437164dc083ed00f4'), ObjectId('6836111437164dc083ed00f5'), ObjectId('6836111437164dc083ed00f6'), ObjectId('6836111437164dc083ed00f7'), ObjectId('6836111437164dc083ed00f8'), ObjectId('6836111437164dc083ed00f9'), ObjectId('6836111437164dc083ed00fa'), ObjectId('6836111437164dc083ed00fb')], acknowledged=True)"
      ]
     },
     "execution_count": 14,
     "metadata": {},
     "output_type": "execute_result"
    }
   ],
   "source": [
    "channel_collection.insert_many(channel_dict)"
   ]
  },
  {
   "cell_type": "code",
   "execution_count": 15,
   "id": "d6f8b77d",
   "metadata": {},
   "outputs": [
    {
     "data": {
      "text/plain": [
       "InsertManyResult([ObjectId('6836111537164dc083ed00fc'), ObjectId('6836111537164dc083ed00fd'), ObjectId('6836111537164dc083ed00fe'), ObjectId('6836111537164dc083ed00ff'), ObjectId('6836111537164dc083ed0100'), ObjectId('6836111537164dc083ed0101'), ObjectId('6836111537164dc083ed0102'), ObjectId('6836111537164dc083ed0103'), ObjectId('6836111537164dc083ed0104'), ObjectId('6836111537164dc083ed0105'), ObjectId('6836111537164dc083ed0106'), ObjectId('6836111537164dc083ed0107'), ObjectId('6836111537164dc083ed0108'), ObjectId('6836111537164dc083ed0109'), ObjectId('6836111537164dc083ed010a'), ObjectId('6836111537164dc083ed010b'), ObjectId('6836111537164dc083ed010c'), ObjectId('6836111537164dc083ed010d'), ObjectId('6836111537164dc083ed010e'), ObjectId('6836111537164dc083ed010f'), ObjectId('6836111537164dc083ed0110'), ObjectId('6836111537164dc083ed0111'), ObjectId('6836111537164dc083ed0112'), ObjectId('6836111537164dc083ed0113'), ObjectId('6836111537164dc083ed0114'), ObjectId('6836111537164dc083ed0115'), ObjectId('6836111537164dc083ed0116'), ObjectId('6836111537164dc083ed0117'), ObjectId('6836111537164dc083ed0118'), ObjectId('6836111537164dc083ed0119'), ObjectId('6836111537164dc083ed011a'), ObjectId('6836111537164dc083ed011b'), ObjectId('6836111537164dc083ed011c'), ObjectId('6836111537164dc083ed011d'), ObjectId('6836111537164dc083ed011e'), ObjectId('6836111537164dc083ed011f'), ObjectId('6836111537164dc083ed0120'), ObjectId('6836111537164dc083ed0121'), ObjectId('6836111537164dc083ed0122'), ObjectId('6836111537164dc083ed0123'), ObjectId('6836111537164dc083ed0124'), ObjectId('6836111537164dc083ed0125'), ObjectId('6836111537164dc083ed0126'), ObjectId('6836111537164dc083ed0127'), ObjectId('6836111537164dc083ed0128'), ObjectId('6836111537164dc083ed0129'), ObjectId('6836111537164dc083ed012a'), ObjectId('6836111537164dc083ed012b'), ObjectId('6836111537164dc083ed012c'), ObjectId('6836111537164dc083ed012d')], acknowledged=True)"
      ]
     },
     "execution_count": 15,
     "metadata": {},
     "output_type": "execute_result"
    }
   ],
   "source": [
    "subscription_collection.insert_many(subscription_dict)"
   ]
  },
  {
   "cell_type": "code",
   "execution_count": 16,
   "id": "0c4fbe46",
   "metadata": {},
   "outputs": [
    {
     "data": {
      "text/plain": [
       "InsertManyResult([ObjectId('6836111537164dc083ed012e'), ObjectId('6836111537164dc083ed012f'), ObjectId('6836111537164dc083ed0130'), ObjectId('6836111537164dc083ed0131'), ObjectId('6836111537164dc083ed0132'), ObjectId('6836111537164dc083ed0133'), ObjectId('6836111537164dc083ed0134'), ObjectId('6836111537164dc083ed0135'), ObjectId('6836111537164dc083ed0136'), ObjectId('6836111537164dc083ed0137'), ObjectId('6836111537164dc083ed0138'), ObjectId('6836111537164dc083ed0139'), ObjectId('6836111537164dc083ed013a'), ObjectId('6836111537164dc083ed013b'), ObjectId('6836111537164dc083ed013c'), ObjectId('6836111537164dc083ed013d'), ObjectId('6836111537164dc083ed013e'), ObjectId('6836111537164dc083ed013f'), ObjectId('6836111537164dc083ed0140'), ObjectId('6836111537164dc083ed0141'), ObjectId('6836111537164dc083ed0142'), ObjectId('6836111537164dc083ed0143'), ObjectId('6836111537164dc083ed0144'), ObjectId('6836111537164dc083ed0145'), ObjectId('6836111537164dc083ed0146'), ObjectId('6836111537164dc083ed0147'), ObjectId('6836111537164dc083ed0148'), ObjectId('6836111537164dc083ed0149'), ObjectId('6836111537164dc083ed014a'), ObjectId('6836111537164dc083ed014b'), ObjectId('6836111537164dc083ed014c'), ObjectId('6836111537164dc083ed014d'), ObjectId('6836111537164dc083ed014e'), ObjectId('6836111537164dc083ed014f'), ObjectId('6836111537164dc083ed0150'), ObjectId('6836111537164dc083ed0151'), ObjectId('6836111537164dc083ed0152'), ObjectId('6836111537164dc083ed0153'), ObjectId('6836111537164dc083ed0154'), ObjectId('6836111537164dc083ed0155'), ObjectId('6836111537164dc083ed0156'), ObjectId('6836111537164dc083ed0157'), ObjectId('6836111537164dc083ed0158'), ObjectId('6836111537164dc083ed0159'), ObjectId('6836111537164dc083ed015a'), ObjectId('6836111537164dc083ed015b'), ObjectId('6836111537164dc083ed015c'), ObjectId('6836111537164dc083ed015d'), ObjectId('6836111537164dc083ed015e'), ObjectId('6836111537164dc083ed015f'), ObjectId('6836111537164dc083ed0160'), ObjectId('6836111537164dc083ed0161'), ObjectId('6836111537164dc083ed0162'), ObjectId('6836111537164dc083ed0163'), ObjectId('6836111537164dc083ed0164'), ObjectId('6836111537164dc083ed0165'), ObjectId('6836111537164dc083ed0166'), ObjectId('6836111537164dc083ed0167'), ObjectId('6836111537164dc083ed0168'), ObjectId('6836111537164dc083ed0169'), ObjectId('6836111537164dc083ed016a'), ObjectId('6836111537164dc083ed016b'), ObjectId('6836111537164dc083ed016c'), ObjectId('6836111537164dc083ed016d'), ObjectId('6836111537164dc083ed016e'), ObjectId('6836111537164dc083ed016f'), ObjectId('6836111537164dc083ed0170'), ObjectId('6836111537164dc083ed0171'), ObjectId('6836111537164dc083ed0172'), ObjectId('6836111537164dc083ed0173')], acknowledged=True)"
      ]
     },
     "execution_count": 16,
     "metadata": {},
     "output_type": "execute_result"
    }
   ],
   "source": [
    "view_collection.insert_many(view_dict)"
   ]
  },
  {
   "cell_type": "code",
   "execution_count": 17,
   "id": "309e494c",
   "metadata": {},
   "outputs": [
    {
     "data": {
      "text/plain": [
       "InsertManyResult([ObjectId('6836111837164dc083ed0174'), ObjectId('6836111837164dc083ed0175'), ObjectId('6836111837164dc083ed0176'), ObjectId('6836111837164dc083ed0177'), ObjectId('6836111837164dc083ed0178'), ObjectId('6836111837164dc083ed0179'), ObjectId('6836111837164dc083ed017a'), ObjectId('6836111837164dc083ed017b'), ObjectId('6836111837164dc083ed017c'), ObjectId('6836111837164dc083ed017d'), ObjectId('6836111837164dc083ed017e'), ObjectId('6836111837164dc083ed017f'), ObjectId('6836111837164dc083ed0180'), ObjectId('6836111837164dc083ed0181'), ObjectId('6836111837164dc083ed0182'), ObjectId('6836111837164dc083ed0183'), ObjectId('6836111837164dc083ed0184'), ObjectId('6836111837164dc083ed0185'), ObjectId('6836111837164dc083ed0186'), ObjectId('6836111837164dc083ed0187'), ObjectId('6836111837164dc083ed0188'), ObjectId('6836111837164dc083ed0189'), ObjectId('6836111837164dc083ed018a'), ObjectId('6836111837164dc083ed018b'), ObjectId('6836111837164dc083ed018c'), ObjectId('6836111837164dc083ed018d'), ObjectId('6836111837164dc083ed018e'), ObjectId('6836111837164dc083ed018f'), ObjectId('6836111837164dc083ed0190'), ObjectId('6836111837164dc083ed0191'), ObjectId('6836111837164dc083ed0192'), ObjectId('6836111837164dc083ed0193'), ObjectId('6836111837164dc083ed0194'), ObjectId('6836111837164dc083ed0195'), ObjectId('6836111837164dc083ed0196'), ObjectId('6836111837164dc083ed0197'), ObjectId('6836111837164dc083ed0198'), ObjectId('6836111837164dc083ed0199'), ObjectId('6836111837164dc083ed019a'), ObjectId('6836111837164dc083ed019b'), ObjectId('6836111837164dc083ed019c'), ObjectId('6836111837164dc083ed019d'), ObjectId('6836111837164dc083ed019e'), ObjectId('6836111837164dc083ed019f'), ObjectId('6836111837164dc083ed01a0'), ObjectId('6836111837164dc083ed01a1'), ObjectId('6836111837164dc083ed01a2'), ObjectId('6836111837164dc083ed01a3'), ObjectId('6836111837164dc083ed01a4'), ObjectId('6836111837164dc083ed01a5')], acknowledged=True)"
      ]
     },
     "execution_count": 17,
     "metadata": {},
     "output_type": "execute_result"
    }
   ],
   "source": [
    "user_collection.insert_many(user_dict)"
   ]
  },
  {
   "cell_type": "code",
   "execution_count": 18,
   "id": "48002b06",
   "metadata": {},
   "outputs": [
    {
     "data": {
      "text/plain": [
       "InsertManyResult([ObjectId('6836111a37164dc083ed01a6'), ObjectId('6836111a37164dc083ed01a7'), ObjectId('6836111a37164dc083ed01a8'), ObjectId('6836111a37164dc083ed01a9'), ObjectId('6836111a37164dc083ed01aa'), ObjectId('6836111a37164dc083ed01ab'), ObjectId('6836111a37164dc083ed01ac'), ObjectId('6836111a37164dc083ed01ad'), ObjectId('6836111a37164dc083ed01ae'), ObjectId('6836111a37164dc083ed01af')], acknowledged=True)"
      ]
     },
     "execution_count": 18,
     "metadata": {},
     "output_type": "execute_result"
    }
   ],
   "source": [
    "owner_collection.insert_many(owner_dict)"
   ]
  },
  {
   "cell_type": "code",
   "execution_count": null,
   "id": "090dea2d",
   "metadata": {},
   "outputs": [],
   "source": []
  }
 ],
 "metadata": {
  "kernelspec": {
   "display_name": "Python 3 (ipykernel)",
   "language": "python",
   "name": "python3"
  },
  "language_info": {
   "codemirror_mode": {
    "name": "ipython",
    "version": 3
   },
   "file_extension": ".py",
   "mimetype": "text/x-python",
   "name": "python",
   "nbconvert_exporter": "python",
   "pygments_lexer": "ipython3",
   "version": "3.11.4"
  }
 },
 "nbformat": 4,
 "nbformat_minor": 5
}
