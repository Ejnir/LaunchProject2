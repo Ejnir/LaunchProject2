{
 "cells": [
  {
   "cell_type": "code",
   "execution_count": 32,
   "metadata": {},
   "outputs": [],
   "source": [
    "import pandas as pd\n",
    "import pymysql\n",
    "import os\n",
    "from dotenv import load_dotenv"
   ]
  },
  {
   "cell_type": "code",
   "execution_count": 37,
   "metadata": {},
   "outputs": [
    {
     "data": {
      "text/plain": [
       "True"
      ]
     },
     "execution_count": 37,
     "metadata": {},
     "output_type": "execute_result"
    }
   ],
   "source": [
    "load_dotenv()"
   ]
  },
  {
   "cell_type": "code",
   "execution_count": 36,
   "metadata": {},
   "outputs": [],
   "source": [
    "# MYSQL Connection\n",
    "conn = pymysql.connect(\n",
    "    host='127.0.0.1', \n",
    "    port=3306, \n",
    "    user='root',\n",
    "    password=os.getenv('MYSQLPW'),\n",
    "    db='VideoStreaming',\n",
    ")\n",
    "\n",
    "cursor = conn.cursor(pymysql.cursors.DictCursor)"
   ]
  },
  {
   "cell_type": "code",
   "execution_count": 3,
   "metadata": {},
   "outputs": [],
   "source": [
    "# Step 1: Create tables\n",
    "create_statements = {\n",
    "    'Channels_Data': \"\"\"\n",
    "        CREATE TABLE IF NOT EXISTS Channels_Data (\n",
    "            ChannelID INT,\n",
    "            Name VARCHAR(255),\n",
    "            Description TEXT,\n",
    "            OwnerID INT,\n",
    "            Subscribers INT,\n",
    "            CreationDate DATE\n",
    "        );\n",
    "    \"\"\",\n",
    "    'Videos_Data': \"\"\"\n",
    "        CREATE TABLE IF NOT EXISTS Videos_Data (\n",
    "            VideoID INT,\n",
    "            Title VARCHAR(255),\n",
    "            ChannelID INT,\n",
    "            Category VARCHAR(100),\n",
    "            Duration INT,\n",
    "            Rating FLOAT,\n",
    "            UploadDate DATE\n",
    "        );\n",
    "    \"\"\",\n",
    "    'Subscriptions_Data': \"\"\"\n",
    "        CREATE TABLE IF NOT EXISTS Subscriptions_Data (\n",
    "            TransactionID INT,\n",
    "            ChannelID INT,\n",
    "            UserID INT,\n",
    "            SubscriptionDate DATE,\n",
    "            Status VARCHAR(50),\n",
    "            Amount INT\n",
    "        );\n",
    "    \"\"\",\n",
    "    'Views_Data': \"\"\"\n",
    "        CREATE TABLE IF NOT EXISTS Views_Data (\n",
    "            ViewID INT,\n",
    "            VideoID INT,\n",
    "            UserID INT,\n",
    "            ViewDate DATE,\n",
    "            DurationWatched INT,\n",
    "            Feedback TEXT\n",
    "        );\n",
    "    \"\"\",\n",
    "    'Users_Data': \"\"\"\n",
    "        CREATE TABLE IF NOT EXISTS Users_Data (\n",
    "            UserID INT,\n",
    "            FirstName VARCHAR(100),\n",
    "            LastName VARCHAR(100),\n",
    "            Country VARCHAR(100),\n",
    "            BirthYear INT,\n",
    "            Email VARCHAR(255)\n",
    "        );\n",
    "    \"\"\",\n",
    "    'Owners_Data': \"\"\"\n",
    "        CREATE TABLE IF NOT EXISTS Owners_Data (\n",
    "            OwnerID INT,\n",
    "            FirstName VARCHAR(100),\n",
    "            LastName VARCHAR(100),\n",
    "            Country VARCHAR(100),\n",
    "            Email VARCHAR(255),\n",
    "            BirthYear INT\n",
    "        );\n",
    "    \"\"\"\n",
    "}"
   ]
  },
  {
   "cell_type": "code",
   "execution_count": 4,
   "metadata": {},
   "outputs": [
    {
     "name": "stdout",
     "output_type": "stream",
     "text": [
      "Inserted 10 rows into Channels_Data\n",
      "Inserted 60 rows into Videos_Data\n",
      "Inserted 50 rows into Subscriptions_Data\n",
      "Inserted 70 rows into Views_Data\n",
      "Inserted 50 rows into Users_Data\n",
      "Inserted 10 rows into Owners_Data\n"
     ]
    }
   ],
   "source": [
    "for table, statement in create_statements.items():\n",
    "    cursor.execute(statement)\n",
    "\n",
    "# Step 2: Load and insert data from CSVs\n",
    "tables = {\n",
    "    'sql_channel.csv': 'Channels_Data',\n",
    "    'sql_video.csv': 'Videos_Data',\n",
    "    'sql_subscription.csv': 'Subscriptions_Data',\n",
    "    'sql_view.csv': 'Views_Data',\n",
    "    'sql_user.csv': 'Users_Data',\n",
    "    'sql_owner.csv': 'Owners_Data'\n",
    "}\n",
    "\n",
    "for filename, table in tables.items():\n",
    "    df = pd.read_csv(filename)\n",
    "\n",
    "    # Clean column names\n",
    "    df.columns = [col.strip().replace(\" \", \"\") for col in df.columns]\n",
    "\n",
    "    # Convert date columns to proper format\n",
    "    for col in df.columns:\n",
    "        if \"Date\" in col:\n",
    "            df[col] = pd.to_datetime(df[col], errors='coerce').dt.date\n",
    "\n",
    "    # Prepare insert\n",
    "    cols = \", \".join(df.columns)\n",
    "    placeholders = \", \".join([\"%s\"] * len(df.columns))\n",
    "    sql = f\"INSERT INTO {table} ({cols}) VALUES ({placeholders})\"\n",
    "\n",
    "    for row in df.itertuples(index=False):\n",
    "        cursor.execute(sql, tuple(row))\n",
    "\n",
    "    print(f\"Inserted {len(df)} rows into {table}\")\n",
    "\n",
    "# Finalize\n",
    "conn.commit()\n",
    "cursor.close()\n",
    "conn.close()"
   ]
  },
  {
   "cell_type": "code",
   "execution_count": 5,
   "metadata": {},
   "outputs": [],
   "source": [
    "conn = pymysql.connect(\n",
    "    host='127.0.0.1', \n",
    "    port=3306, \n",
    "    user='root',\n",
    "    password='Wwewrestler1!1',\n",
    "    db='VideoStreaming',\n",
    ")\n",
    "\n",
    "cursor = conn.cursor()"
   ]
  },
  {
   "cell_type": "markdown",
   "metadata": {},
   "source": [
    "## Channel Popularity"
   ]
  },
  {
   "cell_type": "code",
   "execution_count": 6,
   "metadata": {},
   "outputs": [
    {
     "name": "stdout",
     "output_type": "stream",
     "text": [
      "Epic Gaming Hub 408752\n",
      "DIY Maker Lab 288368\n",
      "Cinema Corner 278448\n",
      "Fitness Pro Tips 247040\n",
      "QuickTech Reviews 246488\n"
     ]
    }
   ],
   "source": [
    "# Channels with the highest total views across all videos\n",
    "\n",
    "query = \"\"\"\n",
    "SELECT c.Name, SUM(vw.DurationWatched) AS TotalViews\n",
    "FROM Channels_Data c\n",
    "JOIN Videos_Data v ON c.ChannelID = v.ChannelID\n",
    "JOIN Views_Data vw ON v.VideoID = vw.VideoID\n",
    "GROUP BY c.ChannelID, c.Name\n",
    "ORDER BY TotalViews DESC\n",
    "LIMIT 5;\n",
    "\"\"\"\n",
    "\n",
    "cursor.execute(query)\n",
    "results = cursor.fetchall()\n",
    "\n",
    "for row in results:\n",
    "    name, total = row\n",
    "    print(name, int(total)) \n"
   ]
  },
  {
   "cell_type": "code",
   "execution_count": 7,
   "metadata": {},
   "outputs": [
    {
     "name": "stdout",
     "output_type": "stream",
     "text": [
      "Indie Music Lounge 152408\n",
      "Indie Music Lounge 152408\n",
      "Science Explained 145562\n",
      "Science Explained 145562\n",
      "HomeCooking Daily 111755\n"
     ]
    }
   ],
   "source": [
    "# Channels with the most subscribers\n",
    "\n",
    "query = \"\"\"\n",
    "SELECT c.Name, c.Subscribers\n",
    "FROM Channels_Data c\n",
    "ORDER BY c.Subscribers DESC\n",
    "LIMIT 5;\n",
    "\"\"\"\n",
    "\n",
    "cursor.execute(query)\n",
    "results = cursor.fetchall()\n",
    "\n",
    "for row in results:\n",
    "    name, subscribers = row\n",
    "    print(name, int(subscribers))"
   ]
  },
  {
   "cell_type": "code",
   "execution_count": 8,
   "metadata": {},
   "outputs": [
    {
     "name": "stdout",
     "output_type": "stream",
     "text": [
      "How to Bake Perfect Sourdough 4.98\n",
      "5 Yoga Poses for Back Pain 4.96\n",
      "Minecraft 1.21 Building Ideas 4.93\n",
      "How to Refinish Old Furniture 4.89\n",
      "Dune Part Two Spoiler Review 4.84\n"
     ]
    }
   ],
   "source": [
    "# Channels with the highest-rated videos on average\n",
    "\n",
    "query = \"\"\"\n",
    "SELECT v.Title, ROUND(AVG(v.Rating), 2) AS AvgRating\n",
    "FROM Videos_Data v\n",
    "GROUP BY v.Title\n",
    "ORDER BY AvgRating DESC\n",
    "LIMIT 5;\n",
    "\"\"\"\n",
    "\n",
    "cursor.execute(query)\n",
    "results = cursor.fetchall()\n",
    "\n",
    "for row in results:\n",
    "    title, avg_rating = row\n",
    "    print(title, round(float(avg_rating), 2))"
   ]
  },
  {
   "cell_type": "code",
   "execution_count": 9,
   "metadata": {},
   "outputs": [
    {
     "name": "stdout",
     "output_type": "stream",
     "text": [
      "QuickTech Reviews 536\n",
      "DIY Maker Lab 432\n",
      "Fitness Pro Tips 392\n",
      "World Travel Vlogs 364\n",
      "Epic Gaming Hub 264\n"
     ]
    }
   ],
   "source": [
    "#Channels with the highest revenue (subscription amount)\n",
    "\n",
    "query = \"\"\"\n",
    "SELECT c.Name, SUM(s.Amount) AS TotalRevenue\n",
    "FROM Channels_Data c\n",
    "JOIN Subscriptions_Data s ON c.ChannelID = s.ChannelID\n",
    "GROUP BY c.ChannelID, c.Name\n",
    "ORDER BY TotalRevenue DESC\n",
    "LIMIT 5;\n",
    "\"\"\"\n",
    "cursor.execute(query)\n",
    "results = cursor.fetchall()\n",
    "\n",
    "for row in results:\n",
    "    name, total = row\n",
    "    print(name, int(total))\n"
   ]
  },
  {
   "cell_type": "markdown",
   "metadata": {},
   "source": [
    "## Subscription Trends"
   ]
  },
  {
   "cell_type": "code",
   "execution_count": 10,
   "metadata": {},
   "outputs": [
    {
     "name": "stdout",
     "output_type": "stream",
     "text": [
      "active 70\n",
      "cancelled 16\n",
      "paused 14\n"
     ]
    }
   ],
   "source": [
    "# Most popular subscription status\n",
    "\n",
    "query = \"\"\"\n",
    "SELECT s.Status, COUNT(*) AS Count\n",
    "FROM Subscriptions_Data s\n",
    "GROUP BY s.Status\n",
    "ORDER BY Count DESC\n",
    "\"\"\"\n",
    "cursor.execute(query)\n",
    "results = cursor.fetchall()\n",
    "\n",
    "for row in results:\n",
    "    status, count = row\n",
    "    print(status, int(count))\n"
   ]
  },
  {
   "cell_type": "code",
   "execution_count": 15,
   "metadata": {},
   "outputs": [
    {
     "name": "stdout",
     "output_type": "stream",
     "text": [
      "Cinema Corner 2025-05 4\n",
      "QuickTech Reviews 2025-05 4\n",
      "Science Explained 2025-05 4\n",
      "World Travel Vlogs 2025-05 4\n",
      "Cinema Corner 2025-04 4\n"
     ]
    }
   ],
   "source": [
    "# Monthly growth of subscriptions over time\n",
    "\n",
    "query = \"\"\"\n",
    "SELECT c.Name, DATE_FORMAT(s.SubscriptionDate, '%Y-%m') AS Month, COUNT(*) AS Count\n",
    "FROM Subscriptions_Data s\n",
    "JOIN Channels_Data c ON s.ChannelID = c.ChannelID\n",
    "GROUP BY Month, c.Name\n",
    "ORDER BY Month DESC\n",
    "LIMIT 5;\n",
    "\"\"\"\n",
    "cursor.execute(query)\n",
    "results = cursor.fetchall()\n",
    "\n",
    "for row in results:\n",
    "    name, month, count = row\n",
    "    print(name, month, int(count))"
   ]
  }
 ],
 "metadata": {
  "kernelspec": {
   "display_name": "Python 3",
   "language": "python",
   "name": "python3"
  },
  "language_info": {
   "codemirror_mode": {
    "name": "ipython",
    "version": 3
   },
   "file_extension": ".py",
   "mimetype": "text/x-python",
   "name": "python",
   "nbconvert_exporter": "python",
   "pygments_lexer": "ipython3",
   "version": "3.12.5"
  }
 },
 "nbformat": 4,
 "nbformat_minor": 2
}
